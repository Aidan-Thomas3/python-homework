{
 "cells": [
  {
   "cell_type": "code",
   "execution_count": 25,
   "metadata": {},
   "outputs": [],
   "source": [
    "import pandas as pd\n",
    "import numpy as np\n",
    "import csv\n",
    "from pathlib import Path"
   ]
  },
  {
   "cell_type": "code",
   "execution_count": 26,
   "metadata": {},
   "outputs": [],
   "source": [
    "#Setting the Filepaths\n",
    "fp_menu = Path('Homework_02-Python_Instructions_PyRamen_Resources_menu_data.csv')\n",
    "fp_sales = Path('Homework_02-Python_Instructions_PyRamen_Resources_sales_data.csv')"
   ]
  },
  {
   "cell_type": "code",
   "execution_count": 27,
   "metadata": {},
   "outputs": [],
   "source": [
    "#Initializing the lists to have csv read into\n",
    "menu = []\n",
    "sales = []"
   ]
  },
  {
   "cell_type": "code",
   "execution_count": 28,
   "metadata": {},
   "outputs": [],
   "source": [
    "#Importing menu_data.csv using a with statment & next function to skip the header\n",
    "with open(fp_menu, 'r') as csvfile:\n",
    "    csv_reader = csv.reader(csvfile, delimiter=\",\")\n",
    "    header = next(csv_reader)\n",
    "    for row in csv_reader:\n",
    "        menu.append(row)"
   ]
  },
  {
   "cell_type": "code",
   "execution_count": 29,
   "metadata": {},
   "outputs": [],
   "source": [
    "#Importing sales_data.csv using a with statement & next function to skip the header\n",
    "with open (fp_sales, 'r') as csvfile:\n",
    "    csv_reader = csv.reader(csvfile, delimiter= \",\")\n",
    "    header = next(csv_reader)\n",
    "    for row in csv_reader:\n",
    "        sales.append(row)"
   ]
  },
  {
   "cell_type": "code",
   "execution_count": 30,
   "metadata": {},
   "outputs": [],
   "source": [
    "#Initializing the report dictionary\n",
    "report = {}"
   ]
  },
  {
   "cell_type": "code",
   "execution_count": 31,
   "metadata": {},
   "outputs": [],
   "source": [
    "#Designating sales data variables & initializing key/value pairs for the report\n",
    "for sales_row in sales:\n",
    "    quantity = sales_row[3]\n",
    "    sales_item = sales_row[4]\n",
    "    \n",
    "    if sales_item not in report: \n",
    "        report[sales_item] = {\"01-count\":0, \"02-revenue\":0, \"03-cogs\":0, \"04-profit\":0}\n",
    "    else:\n",
    "        continue\n",
    "        "
   ]
  },
  {
   "cell_type": "code",
   "execution_count": 32,
   "metadata": {},
   "outputs": [],
   "source": [
    "#Setting key/value pairs for the report dictionary using sales variables\n",
    "for sales_row in sales:\n",
    "    quantity = sales_row[3]\n",
    "    sales_item = sales_row[4]\n",
    "    \n",
    "    if sales_item in report:\n",
    "        report[sales_item][\"01-count\"] += float(quantity)"
   ]
  },
  {
   "cell_type": "code",
   "execution_count": 33,
   "metadata": {},
   "outputs": [],
   "source": [
    "#Designating menu data variables & continuing to set key/value pairs using these variables\n",
    "for sales_row in sales:\n",
    "        quantity = sales_row[3]\n",
    "        sales_item = sales_row[4]\n",
    "        \n",
    "        for menu_row in menu:\n",
    "            menu_item = menu_row[0]\n",
    "            menu_price = menu_row[3]\n",
    "            menu_cost = menu_row[4]\n",
    "            \n",
    "            if sales_item == menu_item:\n",
    "                report[menu_item][\"02-revenue\"] += (float(menu_price)*float(quantity))\n",
    "                report[menu_item][\"03-cogs\"] += (float(menu_cost) * float(quantity))\n",
    "            elif sales_item != menu_item:\n",
    "                continue"
   ]
  },
  {
   "cell_type": "code",
   "execution_count": 34,
   "metadata": {},
   "outputs": [
    {
     "name": "stdout",
     "output_type": "stream",
     "text": [
      "{'spicy miso ramen'} does not equal {'spicy miso ramen'} ! NO MATCH!\n",
      "{'spicy miso ramen'} does not equal {'spicy miso ramen'} ! NO MATCH!\n",
      "{'spicy miso ramen'} does not equal {'spicy miso ramen'} ! NO MATCH!\n",
      "{'spicy miso ramen'} does not equal {'tori paitan ramen'} ! NO MATCH!\n",
      "{'spicy miso ramen'} does not equal {'tori paitan ramen'} ! NO MATCH!\n",
      "{'spicy miso ramen'} does not equal {'tori paitan ramen'} ! NO MATCH!\n",
      "{'spicy miso ramen'} does not equal {'truffle butter ramen'} ! NO MATCH!\n",
      "{'spicy miso ramen'} does not equal {'truffle butter ramen'} ! NO MATCH!\n",
      "{'spicy miso ramen'} does not equal {'truffle butter ramen'} ! NO MATCH!\n",
      "{'spicy miso ramen'} does not equal {'tonkotsu ramen'} ! NO MATCH!\n",
      "{'spicy miso ramen'} does not equal {'tonkotsu ramen'} ! NO MATCH!\n",
      "{'spicy miso ramen'} does not equal {'tonkotsu ramen'} ! NO MATCH!\n",
      "{'spicy miso ramen'} does not equal {'vegetarian spicy miso'} ! NO MATCH!\n",
      "{'spicy miso ramen'} does not equal {'vegetarian spicy miso'} ! NO MATCH!\n",
      "{'spicy miso ramen'} does not equal {'vegetarian spicy miso'} ! NO MATCH!\n",
      "{'spicy miso ramen'} does not equal {'shio ramen'} ! NO MATCH!\n",
      "{'spicy miso ramen'} does not equal {'shio ramen'} ! NO MATCH!\n",
      "{'spicy miso ramen'} does not equal {'shio ramen'} ! NO MATCH!\n",
      "{'spicy miso ramen'} does not equal {'miso crab ramen'} ! NO MATCH!\n",
      "{'spicy miso ramen'} does not equal {'miso crab ramen'} ! NO MATCH!\n",
      "{'spicy miso ramen'} does not equal {'miso crab ramen'} ! NO MATCH!\n",
      "{'spicy miso ramen'} does not equal {'nagomi shoyu'} ! NO MATCH!\n",
      "{'spicy miso ramen'} does not equal {'nagomi shoyu'} ! NO MATCH!\n",
      "{'spicy miso ramen'} does not equal {'nagomi shoyu'} ! NO MATCH!\n",
      "{'spicy miso ramen'} does not equal {'soft-shell miso crab ramen'} ! NO MATCH!\n",
      "{'spicy miso ramen'} does not equal {'soft-shell miso crab ramen'} ! NO MATCH!\n",
      "{'spicy miso ramen'} does not equal {'soft-shell miso crab ramen'} ! NO MATCH!\n",
      "{'spicy miso ramen'} does not equal {'burnt garlic tonkotsu ramen'} ! NO MATCH!\n",
      "{'spicy miso ramen'} does not equal {'burnt garlic tonkotsu ramen'} ! NO MATCH!\n",
      "{'spicy miso ramen'} does not equal {'burnt garlic tonkotsu ramen'} ! NO MATCH!\n",
      "{'spicy miso ramen'} does not equal {'vegetarian curry + king trumpet mushroom ramen'} ! NO MATCH!\n",
      "{'spicy miso ramen'} does not equal {'vegetarian curry + king trumpet mushroom ramen'} ! NO MATCH!\n",
      "{'spicy miso ramen'} does not equal {'vegetarian curry + king trumpet mushroom ramen'} ! NO MATCH!\n"
     ]
    }
   ],
   "source": [
    "#Using the revenue and cogs to find profit with a no match else statement\n",
    "for item, valuedict in report.items():\n",
    "    \n",
    "    for key in valuedict:\n",
    "        cogs = report[item][\"03-cogs\"]\n",
    "        revenue = report[item][\"02-revenue\"]\n",
    "        \n",
    "        if key ==\"04-profit\":\n",
    "            report[item][key] = revenue - cogs\n",
    "        else:\n",
    "            print({sales_item},\"does not equal\", {item}, \"! NO MATCH!\")\n",
    "        "
   ]
  },
  {
   "cell_type": "code",
   "execution_count": 35,
   "metadata": {},
   "outputs": [],
   "source": [
    "#Setting an output filepath and writing the report dictionary to a txt file\n",
    "path_out = Path(\"PyRamen.txt\")\n",
    "with open(path_out, 'w') as f:\n",
    "    for key in report:\n",
    "        f.write(f\"{key} {report[key]} \\n\")"
   ]
  },
  {
   "cell_type": "code",
   "execution_count": null,
   "metadata": {},
   "outputs": [],
   "source": []
  },
  {
   "cell_type": "code",
   "execution_count": null,
   "metadata": {},
   "outputs": [],
   "source": []
  }
 ],
 "metadata": {
  "kernelspec": {
   "display_name": "Python 3",
   "language": "python",
   "name": "python3"
  },
  "language_info": {
   "codemirror_mode": {
    "name": "ipython",
    "version": 3
   },
   "file_extension": ".py",
   "mimetype": "text/x-python",
   "name": "python",
   "nbconvert_exporter": "python",
   "pygments_lexer": "ipython3",
   "version": "3.8.5"
  }
 },
 "nbformat": 4,
 "nbformat_minor": 4
}
