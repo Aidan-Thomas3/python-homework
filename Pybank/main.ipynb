{
 "cells": [
  {
   "cell_type": "code",
   "execution_count": 162,
   "metadata": {},
   "outputs": [],
   "source": [
    "import pandas as pd \n",
    "import numpy as np"
   ]
  },
  {
   "cell_type": "code",
   "execution_count": 163,
   "metadata": {},
   "outputs": [],
   "source": [
    "pybank = pd.read_csv('Homework_02-Python_Instructions_PyBank_Resources_budget_data.csv',parse_dates=True, infer_datetime_format=True)\n",
    "pybank['Date'] = pd.to_datetime(pybank['Date'])"
   ]
  },
  {
   "cell_type": "code",
   "execution_count": 164,
   "metadata": {},
   "outputs": [],
   "source": [
    "total_months = pybank['Profit/Losses'].count()"
   ]
  },
  {
   "cell_type": "code",
   "execution_count": 165,
   "metadata": {},
   "outputs": [],
   "source": [
    "total = pybank['Profit/Losses'].sum()"
   ]
  },
  {
   "cell_type": "code",
   "execution_count": 166,
   "metadata": {},
   "outputs": [],
   "source": [
    "average_change = (pybank['Profit/Losses'] - pybank['Profit/Losses'].shift(1)).mean()"
   ]
  },
  {
   "cell_type": "code",
   "execution_count": 167,
   "metadata": {},
   "outputs": [],
   "source": [
    "G_inc = (pybank['Profit/Losses'] - pybank['Profit/Losses'].shift(1)).max()\n",
    "G_inc_date = pybank.sort_values('Profit/Losses').tail(1).Date"
   ]
  },
  {
   "cell_type": "code",
   "execution_count": 168,
   "metadata": {},
   "outputs": [],
   "source": [
    "G_dec = (pybank['Profit/Losses'] - pybank['Profit/Losses'].shift(1)).min()\n",
    "g_dec_date = pybank.sort_values('Profit/Losses').head(1).Date"
   ]
  },
  {
   "cell_type": "code",
   "execution_count": 170,
   "metadata": {},
   "outputs": [
    {
     "name": "stdout",
     "output_type": "stream",
     "text": [
      "Financial Analysis\n",
      "------------------------------\n",
      "Total Months: 86\n",
      "Total: 38382578\n",
      "Average Change: -2315.12\n",
      "Greatest Increase: 2012-02-01 1926159.0\n",
      "Greatest Decrease: 2013-09-01 -2196167.0\n"
     ]
    }
   ],
   "source": [
    "print(\"Financial Analysis\\n------------------------------\")\n",
    "print(\"Total Months:\" ,total_months)\n",
    "print('Total:', total)\n",
    "print(\"Average Change:\", round(average_change, 2))\n",
    "print(\"Greatest Increase:\", G_inc_date.to_string(index=False),G_inc)\n",
    "print(\"Greatest Decrease:\", G_dec_date.to_string(index=False),G_dec)"
   ]
  },
  {
   "cell_type": "code",
   "execution_count": null,
   "metadata": {},
   "outputs": [],
   "source": []
  },
  {
   "cell_type": "code",
   "execution_count": null,
   "metadata": {},
   "outputs": [],
   "source": []
  }
 ],
 "metadata": {
  "kernelspec": {
   "display_name": "Python 3",
   "language": "python",
   "name": "python3"
  },
  "language_info": {
   "codemirror_mode": {
    "name": "ipython",
    "version": 3
   },
   "file_extension": ".py",
   "mimetype": "text/x-python",
   "name": "python",
   "nbconvert_exporter": "python",
   "pygments_lexer": "ipython3",
   "version": "3.8.5"
  }
 },
 "nbformat": 4,
 "nbformat_minor": 4
}
